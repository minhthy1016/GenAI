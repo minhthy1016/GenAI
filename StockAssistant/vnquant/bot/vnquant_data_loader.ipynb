{
  "nbformat": 4,
  "nbformat_minor": 0,
  "metadata": {
    "colab": {
      "provenance": [],
      "toc_visible": true,
      "machine_shape": "hm",
      "gpuType": "T4"
    },
    "kernelspec": {
      "name": "python3",
      "display_name": "Python 3"
    },
    "language_info": {
      "name": "python"
    },
    "accelerator": "GPU"
  },
  "cells": [
    {
      "cell_type": "code",
      "execution_count": null,
      "metadata": {
        "colab": {
          "base_uri": "https://localhost:8080/"
        },
        "id": "SBDxSFn0T4DM",
        "outputId": "07502211-fdbe-47fe-c2f0-eb338b2732c7"
      },
      "outputs": [
        {
          "output_type": "stream",
          "name": "stdout",
          "text": [
            "Cloning into 'vnquant'...\n",
            "remote: Enumerating objects: 423, done.\u001b[K\n",
            "remote: Counting objects: 100% (186/186), done.\u001b[K\n",
            "remote: Compressing objects: 100% (98/98), done.\u001b[K\n",
            "remote: Total 423 (delta 111), reused 157 (delta 86), pack-reused 237 (from 1)\u001b[K\n",
            "Receiving objects: 100% (423/423), 1.08 MiB | 21.72 MiB/s, done.\n",
            "Resolving deltas: 100% (210/210), done.\n"
          ]
        }
      ],
      "source": [
        "! git clone https://github.com/phamdinhkhanh/vnquant.git"
      ]
    },
    {
      "cell_type": "code",
      "source": [
        "! pip install -r vnquant/requirements.txt"
      ],
      "metadata": {
        "colab": {
          "base_uri": "https://localhost:8080/"
        },
        "id": "wc8Oolu-URVp",
        "outputId": "5ca1d0b4-9b0e-4d93-c07d-4ae1129462dd"
      },
      "execution_count": null,
      "outputs": [
        {
          "output_type": "stream",
          "name": "stdout",
          "text": [
            "Requirement already satisfied: pandas>=0.19.2 in /usr/local/lib/python3.10/dist-packages (from -r vnquant/requirements.txt (line 1)) (2.2.2)\n",
            "Requirement already satisfied: numpy>=1.20.2 in /usr/local/lib/python3.10/dist-packages (from -r vnquant/requirements.txt (line 2)) (1.26.4)\n",
            "Requirement already satisfied: requests>=2.3.0 in /usr/local/lib/python3.10/dist-packages (from -r vnquant/requirements.txt (line 3)) (2.32.3)\n",
            "Requirement already satisfied: wrapt>=1.10.0 in /usr/local/lib/python3.10/dist-packages (from -r vnquant/requirements.txt (line 4)) (1.16.0)\n",
            "Requirement already satisfied: lxml>=4.3.0 in /usr/local/lib/python3.10/dist-packages (from -r vnquant/requirements.txt (line 5)) (5.3.0)\n",
            "Collecting pypandoc>=1.4 (from -r vnquant/requirements.txt (line 6))\n",
            "  Downloading pypandoc-1.14-py3-none-any.whl.metadata (16 kB)\n",
            "Requirement already satisfied: plotly>=4.2.1 in /usr/local/lib/python3.10/dist-packages (from -r vnquant/requirements.txt (line 7)) (5.24.1)\n",
            "Collecting bs4>=0.0.1 (from -r vnquant/requirements.txt (line 8))\n",
            "  Downloading bs4-0.0.2-py2.py3-none-any.whl.metadata (411 bytes)\n",
            "Requirement already satisfied: python-dateutil>=2.8.2 in /usr/local/lib/python3.10/dist-packages (from pandas>=0.19.2->-r vnquant/requirements.txt (line 1)) (2.8.2)\n",
            "Requirement already satisfied: pytz>=2020.1 in /usr/local/lib/python3.10/dist-packages (from pandas>=0.19.2->-r vnquant/requirements.txt (line 1)) (2024.2)\n",
            "Requirement already satisfied: tzdata>=2022.7 in /usr/local/lib/python3.10/dist-packages (from pandas>=0.19.2->-r vnquant/requirements.txt (line 1)) (2024.2)\n",
            "Requirement already satisfied: charset-normalizer<4,>=2 in /usr/local/lib/python3.10/dist-packages (from requests>=2.3.0->-r vnquant/requirements.txt (line 3)) (3.4.0)\n",
            "Requirement already satisfied: idna<4,>=2.5 in /usr/local/lib/python3.10/dist-packages (from requests>=2.3.0->-r vnquant/requirements.txt (line 3)) (3.10)\n",
            "Requirement already satisfied: urllib3<3,>=1.21.1 in /usr/local/lib/python3.10/dist-packages (from requests>=2.3.0->-r vnquant/requirements.txt (line 3)) (2.2.3)\n",
            "Requirement already satisfied: certifi>=2017.4.17 in /usr/local/lib/python3.10/dist-packages (from requests>=2.3.0->-r vnquant/requirements.txt (line 3)) (2024.8.30)\n",
            "Requirement already satisfied: tenacity>=6.2.0 in /usr/local/lib/python3.10/dist-packages (from plotly>=4.2.1->-r vnquant/requirements.txt (line 7)) (9.0.0)\n",
            "Requirement already satisfied: packaging in /usr/local/lib/python3.10/dist-packages (from plotly>=4.2.1->-r vnquant/requirements.txt (line 7)) (24.1)\n",
            "Requirement already satisfied: beautifulsoup4 in /usr/local/lib/python3.10/dist-packages (from bs4>=0.0.1->-r vnquant/requirements.txt (line 8)) (4.12.3)\n",
            "Requirement already satisfied: six>=1.5 in /usr/local/lib/python3.10/dist-packages (from python-dateutil>=2.8.2->pandas>=0.19.2->-r vnquant/requirements.txt (line 1)) (1.16.0)\n",
            "Requirement already satisfied: soupsieve>1.2 in /usr/local/lib/python3.10/dist-packages (from beautifulsoup4->bs4>=0.0.1->-r vnquant/requirements.txt (line 8)) (2.6)\n",
            "Downloading pypandoc-1.14-py3-none-any.whl (21 kB)\n",
            "Downloading bs4-0.0.2-py2.py3-none-any.whl (1.2 kB)\n",
            "Installing collected packages: pypandoc, bs4\n",
            "Successfully installed bs4-0.0.2 pypandoc-1.14\n"
          ]
        }
      ]
    },
    {
      "cell_type": "code",
      "source": [
        "!cd vnquant && python setup.py install"
      ],
      "metadata": {
        "colab": {
          "base_uri": "https://localhost:8080/"
        },
        "id": "ArxGj4xoUdyV",
        "outputId": "4c94e5af-e031-4366-8259-3857615960e5"
      },
      "execution_count": null,
      "outputs": [
        {
          "output_type": "stream",
          "name": "stdout",
          "text": [
            "running install\n",
            "/usr/local/lib/python3.10/dist-packages/setuptools/_distutils/cmd.py:66: SetuptoolsDeprecationWarning: setup.py install is deprecated.\n",
            "!!\n",
            "\n",
            "        ********************************************************************************\n",
            "        Please avoid running ``setup.py`` directly.\n",
            "        Instead, use pypa/build, pypa/installer or other\n",
            "        standards-based tools.\n",
            "\n",
            "        See https://blog.ganssle.io/articles/2021/10/setup-py-deprecated.html for details.\n",
            "        ********************************************************************************\n",
            "\n",
            "!!\n",
            "  self.initialize_options()\n",
            "/usr/local/lib/python3.10/dist-packages/setuptools/_distutils/cmd.py:66: EasyInstallDeprecationWarning: easy_install command is deprecated.\n",
            "!!\n",
            "\n",
            "        ********************************************************************************\n",
            "        Please avoid running ``setup.py`` and ``easy_install``.\n",
            "        Instead, use pypa/build, pypa/installer or other\n",
            "        standards-based tools.\n",
            "\n",
            "        See https://github.com/pypa/setuptools/issues/917 for details.\n",
            "        ********************************************************************************\n",
            "\n",
            "!!\n",
            "  self.initialize_options()\n",
            "running bdist_egg\n",
            "running egg_info\n",
            "creating vnquant.egg-info\n",
            "writing vnquant.egg-info/PKG-INFO\n",
            "writing dependency_links to vnquant.egg-info/dependency_links.txt\n",
            "writing requirements to vnquant.egg-info/requires.txt\n",
            "writing top-level names to vnquant.egg-info/top_level.txt\n",
            "writing manifest file 'vnquant.egg-info/SOURCES.txt'\n",
            "reading manifest file 'vnquant.egg-info/SOURCES.txt'\n",
            "writing manifest file 'vnquant.egg-info/SOURCES.txt'\n",
            "installing library code to build/bdist.linux-x86_64/egg\n",
            "running install_lib\n",
            "running build_py\n",
            "creating build/lib/vnquant\n",
            "copying vnquant/__version__.py -> build/lib/vnquant\n",
            "copying vnquant/__init__.py -> build/lib/vnquant\n",
            "creating build/lib/vnquant/configs\n",
            "copying vnquant/configs/configs.py -> build/lib/vnquant/configs\n",
            "copying vnquant/configs/__init__.py -> build/lib/vnquant/configs\n",
            "creating build/lib/vnquant/plot\n",
            "copying vnquant/plot/Plot.py -> build/lib/vnquant/plot\n",
            "copying vnquant/plot/__init__.py -> build/lib/vnquant/plot\n",
            "copying vnquant/plot/plot.py -> build/lib/vnquant/plot\n",
            "creating build/lib/vnquant/log\n",
            "copying vnquant/log/__init__.py -> build/lib/vnquant/log\n",
            "copying vnquant/log/logging.py -> build/lib/vnquant/log\n",
            "creating build/lib/vnquant/utils\n",
            "copying vnquant/utils/utils.py -> build/lib/vnquant/utils\n",
            "copying vnquant/utils/exceptions.py -> build/lib/vnquant/utils\n",
            "copying vnquant/utils/__init__.py -> build/lib/vnquant/utils\n",
            "creating build/lib/vnquant/data\n",
            "copying vnquant/data/__init__.py -> build/lib/vnquant/data\n",
            "copying vnquant/data/finance.py -> build/lib/vnquant/data\n",
            "copying vnquant/data/dataloader.py -> build/lib/vnquant/data\n",
            "creating build/lib/vnquant/data/loader\n",
            "copying vnquant/data/loader/cafe.py -> build/lib/vnquant/data/loader\n",
            "copying vnquant/data/loader/proto.py -> build/lib/vnquant/data/loader\n",
            "copying vnquant/data/loader/__init__.py -> build/lib/vnquant/data/loader\n",
            "copying vnquant/data/loader/vnd.py -> build/lib/vnquant/data/loader\n",
            "creating build/bdist.linux-x86_64/egg\n",
            "creating build/bdist.linux-x86_64/egg/vnquant\n",
            "creating build/bdist.linux-x86_64/egg/vnquant/configs\n",
            "copying build/lib/vnquant/configs/configs.py -> build/bdist.linux-x86_64/egg/vnquant/configs\n",
            "copying build/lib/vnquant/configs/__init__.py -> build/bdist.linux-x86_64/egg/vnquant/configs\n",
            "copying build/lib/vnquant/__version__.py -> build/bdist.linux-x86_64/egg/vnquant\n",
            "creating build/bdist.linux-x86_64/egg/vnquant/plot\n",
            "copying build/lib/vnquant/plot/Plot.py -> build/bdist.linux-x86_64/egg/vnquant/plot\n",
            "copying build/lib/vnquant/plot/__init__.py -> build/bdist.linux-x86_64/egg/vnquant/plot\n",
            "copying build/lib/vnquant/plot/plot.py -> build/bdist.linux-x86_64/egg/vnquant/plot\n",
            "copying build/lib/vnquant/__init__.py -> build/bdist.linux-x86_64/egg/vnquant\n",
            "creating build/bdist.linux-x86_64/egg/vnquant/log\n",
            "copying build/lib/vnquant/log/__init__.py -> build/bdist.linux-x86_64/egg/vnquant/log\n",
            "copying build/lib/vnquant/log/logging.py -> build/bdist.linux-x86_64/egg/vnquant/log\n",
            "creating build/bdist.linux-x86_64/egg/vnquant/utils\n",
            "copying build/lib/vnquant/utils/utils.py -> build/bdist.linux-x86_64/egg/vnquant/utils\n",
            "copying build/lib/vnquant/utils/exceptions.py -> build/bdist.linux-x86_64/egg/vnquant/utils\n",
            "copying build/lib/vnquant/utils/__init__.py -> build/bdist.linux-x86_64/egg/vnquant/utils\n",
            "creating build/bdist.linux-x86_64/egg/vnquant/data\n",
            "copying build/lib/vnquant/data/__init__.py -> build/bdist.linux-x86_64/egg/vnquant/data\n",
            "copying build/lib/vnquant/data/finance.py -> build/bdist.linux-x86_64/egg/vnquant/data\n",
            "creating build/bdist.linux-x86_64/egg/vnquant/data/loader\n",
            "copying build/lib/vnquant/data/loader/cafe.py -> build/bdist.linux-x86_64/egg/vnquant/data/loader\n",
            "copying build/lib/vnquant/data/loader/proto.py -> build/bdist.linux-x86_64/egg/vnquant/data/loader\n",
            "copying build/lib/vnquant/data/loader/__init__.py -> build/bdist.linux-x86_64/egg/vnquant/data/loader\n",
            "copying build/lib/vnquant/data/loader/vnd.py -> build/bdist.linux-x86_64/egg/vnquant/data/loader\n",
            "copying build/lib/vnquant/data/dataloader.py -> build/bdist.linux-x86_64/egg/vnquant/data\n",
            "byte-compiling build/bdist.linux-x86_64/egg/vnquant/configs/configs.py to configs.cpython-310.pyc\n",
            "byte-compiling build/bdist.linux-x86_64/egg/vnquant/configs/__init__.py to __init__.cpython-310.pyc\n",
            "byte-compiling build/bdist.linux-x86_64/egg/vnquant/__version__.py to __version__.cpython-310.pyc\n",
            "byte-compiling build/bdist.linux-x86_64/egg/vnquant/plot/Plot.py to Plot.cpython-310.pyc\n",
            "byte-compiling build/bdist.linux-x86_64/egg/vnquant/plot/__init__.py to __init__.cpython-310.pyc\n",
            "byte-compiling build/bdist.linux-x86_64/egg/vnquant/plot/plot.py to plot.cpython-310.pyc\n",
            "byte-compiling build/bdist.linux-x86_64/egg/vnquant/__init__.py to __init__.cpython-310.pyc\n",
            "byte-compiling build/bdist.linux-x86_64/egg/vnquant/log/__init__.py to __init__.cpython-310.pyc\n",
            "byte-compiling build/bdist.linux-x86_64/egg/vnquant/log/logging.py to logging.cpython-310.pyc\n",
            "byte-compiling build/bdist.linux-x86_64/egg/vnquant/utils/utils.py to utils.cpython-310.pyc\n",
            "byte-compiling build/bdist.linux-x86_64/egg/vnquant/utils/exceptions.py to exceptions.cpython-310.pyc\n",
            "byte-compiling build/bdist.linux-x86_64/egg/vnquant/utils/__init__.py to __init__.cpython-310.pyc\n",
            "byte-compiling build/bdist.linux-x86_64/egg/vnquant/data/__init__.py to __init__.cpython-310.pyc\n",
            "byte-compiling build/bdist.linux-x86_64/egg/vnquant/data/finance.py to finance.cpython-310.pyc\n",
            "byte-compiling build/bdist.linux-x86_64/egg/vnquant/data/loader/cafe.py to cafe.cpython-310.pyc\n",
            "byte-compiling build/bdist.linux-x86_64/egg/vnquant/data/loader/proto.py to proto.cpython-310.pyc\n",
            "byte-compiling build/bdist.linux-x86_64/egg/vnquant/data/loader/__init__.py to __init__.cpython-310.pyc\n",
            "byte-compiling build/bdist.linux-x86_64/egg/vnquant/data/loader/vnd.py to vnd.cpython-310.pyc\n",
            "byte-compiling build/bdist.linux-x86_64/egg/vnquant/data/dataloader.py to dataloader.cpython-310.pyc\n",
            "creating build/bdist.linux-x86_64/egg/EGG-INFO\n",
            "copying vnquant.egg-info/PKG-INFO -> build/bdist.linux-x86_64/egg/EGG-INFO\n",
            "copying vnquant.egg-info/SOURCES.txt -> build/bdist.linux-x86_64/egg/EGG-INFO\n",
            "copying vnquant.egg-info/dependency_links.txt -> build/bdist.linux-x86_64/egg/EGG-INFO\n",
            "copying vnquant.egg-info/not-zip-safe -> build/bdist.linux-x86_64/egg/EGG-INFO\n",
            "copying vnquant.egg-info/requires.txt -> build/bdist.linux-x86_64/egg/EGG-INFO\n",
            "copying vnquant.egg-info/top_level.txt -> build/bdist.linux-x86_64/egg/EGG-INFO\n",
            "creating dist\n",
            "creating 'dist/vnquant-0.1.1-py3.10.egg' and adding 'build/bdist.linux-x86_64/egg' to it\n",
            "removing 'build/bdist.linux-x86_64/egg' (and everything under it)\n",
            "Processing vnquant-0.1.1-py3.10.egg\n",
            "creating /usr/local/lib/python3.10/dist-packages/vnquant-0.1.1-py3.10.egg\n",
            "Extracting vnquant-0.1.1-py3.10.egg to /usr/local/lib/python3.10/dist-packages\n",
            "Adding vnquant 0.1.1 to easy-install.pth file\n",
            "\n",
            "Installed /usr/local/lib/python3.10/dist-packages/vnquant-0.1.1-py3.10.egg\n",
            "Processing dependencies for vnquant==0.1.1\n",
            "Searching for bs4==0.0.2\n",
            "Best match: bs4 0.0.2\n",
            "Adding bs4 0.0.2 to easy-install.pth file\n",
            "detected new path './vnquant-0.1.1-py3.10.egg'\n",
            "\n",
            "Using /usr/local/lib/python3.10/dist-packages\n",
            "Searching for plotly==5.24.1\n",
            "Best match: plotly 5.24.1\n",
            "Adding plotly 5.24.1 to easy-install.pth file\n",
            "\n",
            "Using /usr/local/lib/python3.10/dist-packages\n",
            "Searching for pypandoc==1.14\n",
            "Best match: pypandoc 1.14\n",
            "Adding pypandoc 1.14 to easy-install.pth file\n",
            "\n",
            "Using /usr/local/lib/python3.10/dist-packages\n",
            "Searching for lxml==5.3.0\n",
            "Best match: lxml 5.3.0\n",
            "Adding lxml 5.3.0 to easy-install.pth file\n",
            "\n",
            "Using /usr/local/lib/python3.10/dist-packages\n",
            "Searching for wrapt==1.16.0\n",
            "Best match: wrapt 1.16.0\n",
            "Adding wrapt 1.16.0 to easy-install.pth file\n",
            "\n",
            "Using /usr/local/lib/python3.10/dist-packages\n",
            "Searching for requests==2.32.3\n",
            "Best match: requests 2.32.3\n",
            "Adding requests 2.32.3 to easy-install.pth file\n",
            "\n",
            "Using /usr/local/lib/python3.10/dist-packages\n",
            "Searching for numpy==1.26.4\n",
            "Best match: numpy 1.26.4\n",
            "Adding numpy 1.26.4 to easy-install.pth file\n",
            "Installing f2py script to /usr/local/bin\n",
            "\n",
            "Using /usr/local/lib/python3.10/dist-packages\n",
            "Searching for pandas==2.2.2\n",
            "Best match: pandas 2.2.2\n",
            "Adding pandas 2.2.2 to easy-install.pth file\n",
            "\n",
            "Using /usr/local/lib/python3.10/dist-packages\n",
            "Searching for beautifulsoup4==4.12.3\n",
            "Best match: beautifulsoup4 4.12.3\n",
            "Adding beautifulsoup4 4.12.3 to easy-install.pth file\n",
            "\n",
            "Using /usr/local/lib/python3.10/dist-packages\n",
            "Searching for packaging==24.1\n",
            "Best match: packaging 24.1\n",
            "Adding packaging 24.1 to easy-install.pth file\n",
            "\n",
            "Using /usr/local/lib/python3.10/dist-packages/setuptools/_vendor\n",
            "Searching for tenacity==9.0.0\n",
            "Best match: tenacity 9.0.0\n",
            "Adding tenacity 9.0.0 to easy-install.pth file\n",
            "detected new path './setuptools/_vendor'\n",
            "\n",
            "Using /usr/local/lib/python3.10/dist-packages\n",
            "Searching for certifi==2024.8.30\n",
            "Best match: certifi 2024.8.30\n",
            "Adding certifi 2024.8.30 to easy-install.pth file\n",
            "\n",
            "Using /usr/local/lib/python3.10/dist-packages\n",
            "Searching for urllib3==2.2.3\n",
            "Best match: urllib3 2.2.3\n",
            "Adding urllib3 2.2.3 to easy-install.pth file\n",
            "\n",
            "Using /usr/local/lib/python3.10/dist-packages\n",
            "Searching for idna==3.10\n",
            "Best match: idna 3.10\n",
            "Adding idna 3.10 to easy-install.pth file\n",
            "\n",
            "Using /usr/local/lib/python3.10/dist-packages\n",
            "Searching for charset-normalizer==3.4.0\n",
            "Best match: charset-normalizer 3.4.0\n",
            "Adding charset-normalizer 3.4.0 to easy-install.pth file\n",
            "Installing normalizer script to /usr/local/bin\n",
            "\n",
            "Using /usr/local/lib/python3.10/dist-packages\n",
            "Searching for tzdata==2024.2\n",
            "Best match: tzdata 2024.2\n",
            "Adding tzdata 2024.2 to easy-install.pth file\n",
            "\n",
            "Using /usr/local/lib/python3.10/dist-packages\n",
            "Searching for pytz==2024.2\n",
            "Best match: pytz 2024.2\n",
            "Adding pytz 2024.2 to easy-install.pth file\n",
            "\n",
            "Using /usr/local/lib/python3.10/dist-packages\n",
            "Searching for python-dateutil==2.8.2\n",
            "Best match: python-dateutil 2.8.2\n",
            "Adding python-dateutil 2.8.2 to easy-install.pth file\n",
            "\n",
            "Using /usr/local/lib/python3.10/dist-packages\n",
            "Searching for soupsieve==2.6\n",
            "Best match: soupsieve 2.6\n",
            "Adding soupsieve 2.6 to easy-install.pth file\n",
            "\n",
            "Using /usr/local/lib/python3.10/dist-packages\n",
            "Searching for six==1.16.0\n",
            "Best match: six 1.16.0\n",
            "Adding six 1.16.0 to easy-install.pth file\n",
            "\n",
            "Using /usr/local/lib/python3.10/dist-packages\n",
            "Finished processing dependencies for vnquant==0.1.1\n"
          ]
        }
      ]
    },
    {
      "cell_type": "code",
      "source": [
        "!pip install ./vnquant"
      ],
      "metadata": {
        "colab": {
          "base_uri": "https://localhost:8080/",
          "height": 724
        },
        "id": "Oh6FAymDUwj_",
        "outputId": "0872b2b4-9ccd-4af7-9811-65ba6af0bfce"
      },
      "execution_count": null,
      "outputs": [
        {
          "output_type": "stream",
          "name": "stdout",
          "text": [
            "Processing ./vnquant\n",
            "  Preparing metadata (setup.py) ... \u001b[?25l\u001b[?25hdone\n",
            "Requirement already satisfied: pandas>=0.19.2 in /usr/local/lib/python3.10/dist-packages (from vnquant==0.1.1) (2.2.2)\n",
            "Requirement already satisfied: numpy>=1.20.2 in /usr/local/lib/python3.10/dist-packages (from vnquant==0.1.1) (1.26.4)\n",
            "Requirement already satisfied: requests>=2.3.0 in /usr/local/lib/python3.10/dist-packages (from vnquant==0.1.1) (2.32.3)\n",
            "Requirement already satisfied: wrapt>=1.10.0 in /usr/local/lib/python3.10/dist-packages (from vnquant==0.1.1) (1.16.0)\n",
            "Requirement already satisfied: lxml>=4.3.0 in /usr/local/lib/python3.10/dist-packages (from vnquant==0.1.1) (5.3.0)\n",
            "Requirement already satisfied: pypandoc>=1.4 in /usr/local/lib/python3.10/dist-packages (from vnquant==0.1.1) (1.14)\n",
            "Requirement already satisfied: plotly>=4.2.1 in /usr/local/lib/python3.10/dist-packages (from vnquant==0.1.1) (5.24.1)\n",
            "Requirement already satisfied: bs4>=0.0.1 in /usr/local/lib/python3.10/dist-packages (from vnquant==0.1.1) (0.0.2)\n",
            "Requirement already satisfied: beautifulsoup4 in /usr/local/lib/python3.10/dist-packages (from bs4>=0.0.1->vnquant==0.1.1) (4.12.3)\n",
            "Requirement already satisfied: python-dateutil>=2.8.2 in /usr/local/lib/python3.10/dist-packages (from pandas>=0.19.2->vnquant==0.1.1) (2.8.2)\n",
            "Requirement already satisfied: pytz>=2020.1 in /usr/local/lib/python3.10/dist-packages (from pandas>=0.19.2->vnquant==0.1.1) (2024.2)\n",
            "Requirement already satisfied: tzdata>=2022.7 in /usr/local/lib/python3.10/dist-packages (from pandas>=0.19.2->vnquant==0.1.1) (2024.2)\n",
            "Requirement already satisfied: tenacity>=6.2.0 in /usr/local/lib/python3.10/dist-packages (from plotly>=4.2.1->vnquant==0.1.1) (9.0.0)\n",
            "Requirement already satisfied: packaging in /usr/local/lib/python3.10/dist-packages (from plotly>=4.2.1->vnquant==0.1.1) (24.1)\n",
            "Requirement already satisfied: charset-normalizer<4,>=2 in /usr/local/lib/python3.10/dist-packages (from requests>=2.3.0->vnquant==0.1.1) (3.4.0)\n",
            "Requirement already satisfied: idna<4,>=2.5 in /usr/local/lib/python3.10/dist-packages (from requests>=2.3.0->vnquant==0.1.1) (3.10)\n",
            "Requirement already satisfied: urllib3<3,>=1.21.1 in /usr/local/lib/python3.10/dist-packages (from requests>=2.3.0->vnquant==0.1.1) (2.2.3)\n",
            "Requirement already satisfied: certifi>=2017.4.17 in /usr/local/lib/python3.10/dist-packages (from requests>=2.3.0->vnquant==0.1.1) (2024.8.30)\n",
            "Requirement already satisfied: six>=1.5 in /usr/local/lib/python3.10/dist-packages (from python-dateutil>=2.8.2->pandas>=0.19.2->vnquant==0.1.1) (1.16.0)\n",
            "Requirement already satisfied: soupsieve>1.2 in /usr/local/lib/python3.10/dist-packages (from beautifulsoup4->bs4>=0.0.1->vnquant==0.1.1) (2.6)\n",
            "Building wheels for collected packages: vnquant\n",
            "  Building wheel for vnquant (setup.py) ... \u001b[?25l\u001b[?25hdone\n",
            "  Created wheel for vnquant: filename=vnquant-0.1.1-py3-none-any.whl size=20164 sha256=a088a2435fb8db6f916896a7a320f69b68a484a8fa491c627429c534bb60f79f\n",
            "  Stored in directory: /tmp/pip-ephem-wheel-cache-ru28fjs3/wheels/28/02/ca/9b26dd4d33ffa2a744bf51e8f686c2d6678a5dc4641c113f3d\n",
            "Successfully built vnquant\n",
            "Installing collected packages: vnquant\n",
            "  Attempting uninstall: vnquant\n",
            "    Found existing installation: vnquant 0.1.1\n",
            "    Uninstalling vnquant-0.1.1:\n",
            "      Successfully uninstalled vnquant-0.1.1\n",
            "Successfully installed vnquant-0.1.1\n"
          ]
        },
        {
          "output_type": "display_data",
          "data": {
            "application/vnd.colab-display-data+json": {
              "pip_warning": {
                "packages": [
                  "vnquant"
                ]
              },
              "id": "e20ec2cfe3b54ece8732daf7af953fd4"
            }
          },
          "metadata": {}
        }
      ]
    },
    {
      "cell_type": "markdown",
      "source": [
        "# Quỹ ETF VFMVN30 - E1VFVN30\n",
        "\n",
        "Mục tiêu của Quỹ ETF VFMVN30 là mô phỏng gần nhất có thể về biến động (performance) của **chỉ số tham chiếu VN30** sau khi trừ đi chi phí của Quỹ. Chỉ số VN30 là chỉ số giá (price index) do Sở giao dịch Chứng khoán Thành phố Hồ Chí Minh xây dựng và quản lý, bao gồm 30 công ty niêm yết trên Sở giao dịch Chứng khoán Tp. Hồ Chí Minh (HOSE), có giá trị vốn hóa và thanh khoản lớn hàng đầu.\n",
        "\n",
        "Quỹ ETF VFMVN30 sử dụng chiến lược đầu tư thụ động để thực hiện mục tiêu đầu tư đã định trước. Khi danh mục chứng khoán của chỉ số VN30 có sự thay đổi thì Quỹ ETF VFMVN30 sẽ thực hiện điều chỉnh danh mục của Quỹ để phù hợp với danh mục của chỉ số VN30 về cơ cấu và tỷ trọng tài sản. Quỹ sẽ hướng đến việc có kết quả tương đồng với chỉ số tham chiếu và không thực hiện chiến lược phòng thủ khi thị trường giảm hay hiện thực hóa lợi nhuận khi thị trường được định giá quá cao. Việc đầu tư thụ động nhằm giảm thiểu chi phí và mô phỏng gần hơn chỉ số tham chiếu bằng cách duy trì tỷ lệ vòng quay vốn đầu tư thấp hơn so với các quỹ sử dụng chiến lược đầu tư chủ động."
      ],
      "metadata": {
        "id": "n5JEtxxHXuTM"
      }
    },
    {
      "cell_type": "code",
      "source": [
        "import vnquant.data as dt\n",
        "import pandas as pd\n",
        "\n",
        "loader_E1VFVN30 = dt.DataLoader(symbols=\"E1VFVN30\",\n",
        "           start=\"2022-01-01\",\n",
        "           end=\"2024-11-08\",\n",
        "           minimal=False,\n",
        "           data_source=\"VND\")\n",
        "\n",
        "data_E1VFVN30 = loader_E1VFVN30.download()\n",
        "print(data_E1VFVN30.head(5))\n",
        "E1VFVN30 = data_E1VFVN30.to_csv(\"E1VFVN30.csv\")"
      ],
      "metadata": {
        "colab": {
          "base_uri": "https://localhost:8080/"
        },
        "id": "PYlz_lSaUKzy",
        "outputId": "d79c7f28-37c1-4317-d6d7-e06fb095020f"
      },
      "execution_count": null,
      "outputs": [
        {
          "output_type": "stream",
          "name": "stderr",
          "text": [
            "[2024-11-10 09:07:26] - Assitant - INFO      - download - line 32 - Start downloading data symbols ['E1VFVN30'] from VNDIRECT, start: 01/01/2022, end: 08/11/2024!\n",
            "[2024-11-10 09:07:26] - Assitant - INFO      - download_one - line 85 - data E1VFVN30 from 2022-01-01 to 2024-11-08 have already cloned!\n"
          ]
        },
        {
          "output_type": "stream",
          "name": "stdout",
          "text": [
            "Attributes      code    floor basic_price ceiling_price floor_price    close  \\\n",
            "Symbols     E1VFVN30 E1VFVN30    E1VFVN30      E1VFVN30    E1VFVN30 E1VFVN30   \n",
            "date                                                                           \n",
            "2024-11-08  E1VFVN30     HOSE       23.27         24.89       21.65    23.04   \n",
            "2024-11-07  E1VFVN30     HOSE       23.33         24.96       21.70    23.27   \n",
            "2024-11-06  E1VFVN30     HOSE       23.00         24.61       21.39    23.33   \n",
            "2024-11-05  E1VFVN30     HOSE       23.00         24.61       21.39    23.00   \n",
            "2024-11-04  E1VFVN30     HOSE       23.23         24.85       21.61    23.00   \n",
            "\n",
            "Attributes     open     high      low  average  ... adjust_average   change  \\\n",
            "Symbols    E1VFVN30 E1VFVN30 E1VFVN30 E1VFVN30  ...       E1VFVN30 E1VFVN30   \n",
            "date                                            ...                           \n",
            "2024-11-08    23.26    23.27    22.91   23.126  ...         23.126    -0.23   \n",
            "2024-11-07    23.46    23.46    23.22   23.306  ...         23.306    -0.06   \n",
            "2024-11-06    23.00    23.33    23.00   23.147  ...         23.147     0.33   \n",
            "2024-11-05    23.03    23.05    22.99   23.012  ...         23.012     0.00   \n",
            "2024-11-04    23.23    23.30    22.60   23.040  ...         23.040    -0.23   \n",
            "\n",
            "Attributes adjust_change percent_change volume_match   value_match  \\\n",
            "Symbols         E1VFVN30       E1VFVN30     E1VFVN30      E1VFVN30   \n",
            "date                                                                 \n",
            "2024-11-08         -0.23        -0.9884     182000.0  4.208898e+09   \n",
            "2024-11-07         -0.06        -0.2572      80900.0  1.885411e+09   \n",
            "2024-11-06          0.33         1.4348     336900.0  7.798243e+09   \n",
            "2024-11-05          0.00         0.0000     168900.0  3.886647e+09   \n",
            "2024-11-04         -0.23        -0.9901     285800.0  6.584784e+09   \n",
            "\n",
            "Attributes volume_reconcile value_reconcile total_volume   total_value  \n",
            "Symbols            E1VFVN30        E1VFVN30     E1VFVN30      E1VFVN30  \n",
            "date                                                                    \n",
            "2024-11-08         200000.0    4.599600e+09     382000.0  8.808498e+09  \n",
            "2024-11-07         100000.0    2.324600e+09     180900.0  4.210011e+09  \n",
            "2024-11-06         200000.0    4.644200e+09     536900.0  1.244244e+10  \n",
            "2024-11-05              0.0    0.000000e+00     168900.0  3.886647e+09  \n",
            "2024-11-04              0.0    0.000000e+00     285800.0  6.584784e+09  \n",
            "\n",
            "[5 rows x 24 columns]\n"
          ]
        }
      ]
    },
    {
      "cell_type": "code",
      "source": [
        "# prompt: list columns in E1VFVN30 data?\n",
        "\n",
        "import pandas as pd\n",
        "\n",
        "# Assuming 'E1VFVN30.csv' exists in the current directory\n",
        "try:\n",
        "    df = pd.read_csv(\"E1VFVN30.csv\")\n",
        "    print(df.columns)\n",
        "except FileNotFoundError:\n",
        "    print(\"Error: 'E1VFVN30.csv' not found. Please ensure the file exists in the current directory.\")"
      ],
      "metadata": {
        "colab": {
          "base_uri": "https://localhost:8080/"
        },
        "id": "lZPFnoHCVH5r",
        "outputId": "b1ce05d7-30ff-4f17-e48f-149348116401"
      },
      "execution_count": null,
      "outputs": [
        {
          "output_type": "stream",
          "name": "stdout",
          "text": [
            "Index(['Attributes', 'code', 'floor', 'basic_price', 'ceiling_price',\n",
            "       'floor_price', 'close', 'open', 'high', 'low', 'average',\n",
            "       'adjust_close', 'adjust_open', 'adjust_high', 'adjust_low',\n",
            "       'adjust_average', 'change', 'adjust_change', 'percent_change',\n",
            "       'volume_match', 'value_match', 'volume_reconcile', 'value_reconcile',\n",
            "       'total_volume', 'total_value'],\n",
            "      dtype='object')\n"
          ]
        }
      ]
    },
    {
      "cell_type": "markdown",
      "source": [
        "# Quỹ ETF DCVFMVNMIDCAP - FUEDCMID\n",
        "\n",
        " la san pham cua Dragon Capital Vietfund Management (DCVFM) mô phỏng gần nhất có thể về biến động (performance) của chỉ số **VN MidCap Index**. Quỹ ETF DCVFM-VNMIDCAP sử dụng chiến lược đầu tư thụ động để thực hiện mục tiêu đầu tư đã định trước.\n",
        "Quỹ ETF DCVFMVNMIDCAP sử dụng chiến lược mô phỏng chỉ số có chọn lọc (sampling strategy) để thực hiện mục tiêu đầu tư đã định trước. Quỹ sẽ hướng đến phương pháp lựa chọn mẫu và tối ưu hóa, ưu tiên các cổ phiếu có giá trị vốn hóa và thanh khoản cao trong và ngoài danh mục chỉ số tham chiếu nhằm mục đích (1) hạn chế rủi ro thanh khoản cho danh mục đầu tư và (2) tinh giản danh mục để thành viên lập quỹ dễ dàng thực hiện hoạt động giao dịch hoán đổi và tạo lập thị trường nhưng vẫn đảm bảo mức sai lệch so với chỉ số tham chiếu tuân theo quy định."
      ],
      "metadata": {
        "id": "cwHiLLe7Y_Um"
      }
    },
    {
      "cell_type": "code",
      "source": [
        "# FUEDCMID\n",
        "loader_FUEDCMID = dt.DataLoader(symbols=\"FUEDCMID\",\n",
        "           start=\"2022-01-01\",\n",
        "           end=\"2024-11-08\",\n",
        "           minimal=False,\n",
        "           data_source=\"VND\")\n",
        "\n",
        "data_FUEDCMID = loader_FUEDCMID.download()\n",
        "print(data_FUEDCMID.head(5))\n",
        "FUEDCMID = data_FUEDCMID.to_csv(\"FUEDCMID_02.csv\")"
      ],
      "metadata": {
        "colab": {
          "base_uri": "https://localhost:8080/"
        },
        "id": "7-WHclfIY2Ha",
        "outputId": "72672f60-ac95-4656-aa0a-e85e583588a5"
      },
      "execution_count": null,
      "outputs": [
        {
          "output_type": "stream",
          "name": "stderr",
          "text": [
            "[2024-11-10 09:31:56] - Assitant - INFO      - download - line 32 - Start downloading data symbols ['FUEDCMID'] from VNDIRECT, start: 01/01/2022, end: 08/11/2024!\n",
            "[2024-11-10 09:31:56] - Assitant - INFO      - download_one - line 85 - data FUEDCMID from 2022-01-01 to 2024-11-08 have already cloned!\n"
          ]
        },
        {
          "output_type": "stream",
          "name": "stdout",
          "text": [
            "Attributes      code    floor basic_price ceiling_price floor_price    close  \\\n",
            "Symbols     FUEDCMID FUEDCMID    FUEDCMID      FUEDCMID    FUEDCMID FUEDCMID   \n",
            "date                                                                           \n",
            "2024-11-08  FUEDCMID     HOSE       11.90         12.73       11.07    11.97   \n",
            "2024-11-07  FUEDCMID     HOSE       11.88         12.71       11.05    11.90   \n",
            "2024-11-06  FUEDCMID     HOSE       11.63         12.44       10.82    11.88   \n",
            "2024-11-05  FUEDCMID     HOSE       11.64         12.45       10.83    11.63   \n",
            "2024-11-04  FUEDCMID     HOSE       11.73         12.55       10.91    11.64   \n",
            "\n",
            "Attributes     open     high      low  average  ... adjust_average   change  \\\n",
            "Symbols    FUEDCMID FUEDCMID FUEDCMID FUEDCMID  ...       FUEDCMID FUEDCMID   \n",
            "date                                            ...                           \n",
            "2024-11-08    11.92    11.97    11.70   11.745  ...         11.745     0.07   \n",
            "2024-11-07    11.88    11.97    11.80   11.834  ...         11.834     0.02   \n",
            "2024-11-06    11.80    11.88    11.70   11.782  ...         11.782     0.25   \n",
            "2024-11-05    11.65    11.66    11.61   11.628  ...         11.628    -0.01   \n",
            "2024-11-04    11.98    11.98    11.61   11.647  ...         11.647    -0.09   \n",
            "\n",
            "Attributes adjust_change percent_change volume_match  value_match  \\\n",
            "Symbols         FUEDCMID       FUEDCMID     FUEDCMID     FUEDCMID   \n",
            "date                                                                \n",
            "2024-11-08          0.07         0.5882      27400.0  321810000.0   \n",
            "2024-11-07          0.02         0.1684      43000.0  508878000.0   \n",
            "2024-11-06          0.25         2.1496       8600.0  101327000.0   \n",
            "2024-11-05         -0.01        -0.0859      36300.0  422108000.0   \n",
            "2024-11-04         -0.09        -0.7673      13800.0  160725000.0   \n",
            "\n",
            "Attributes volume_reconcile value_reconcile total_volume  total_value  \n",
            "Symbols            FUEDCMID        FUEDCMID     FUEDCMID     FUEDCMID  \n",
            "date                                                                   \n",
            "2024-11-08              0.0             0.0      27400.0  321810000.0  \n",
            "2024-11-07              0.0             0.0      43000.0  508878000.0  \n",
            "2024-11-06              0.0             0.0       8600.0  101327000.0  \n",
            "2024-11-05              0.0             0.0      36300.0  422108000.0  \n",
            "2024-11-04              0.0             0.0      13800.0  160725000.0  \n",
            "\n",
            "[5 rows x 24 columns]\n"
          ]
        }
      ]
    },
    {
      "cell_type": "markdown",
      "source": [
        "# ENF là Quỹ đầu tư  năng động Eastspring Investments Việt Nam\n",
        "\n",
        "Quỹ sẽ áp dụng chiến lược phân bổ và cơ cấu tài sản một cách năng động phù hợp với tình hình vĩ mô và diễn biến của thị trường nhằm bảo toàn vốn và tận dụng tăng trưởng giá trị quỹ khi có cơ hội. Cụ thể, việc phân bổ tài sản của Quỹ chủ yếu được thực hiện như sau:     \n",
        "\n",
        "Cổ phiếu từ 0 – 100%: Các cổ phiếu trong nước niêm yết trên HOSE và HNX.\n",
        "\n",
        "Trái phiếu từ 0 – 100%: Trái phiếu Chính phủ, trái phiếu do Chính phủ bảo lãnh thanh toán, tín phiếu kho bạc, trái phiếu doanh nghiệp, trái phiếu chuyển đổi tại Việt Nam.\n",
        "\n",
        "Tiền từ 0 – 49%: Đầu tư vào thị trường tiền tệ và tiền gửi tại ngân hàng thương mại tại Việt Nam"
      ],
      "metadata": {
        "id": "IG3kpVG4b4Wt"
      }
    },
    {
      "cell_type": "code",
      "source": [
        "# ENF\n",
        "loader_ENF = dt.DataLoader(symbols=\"ENF\",\n",
        "           start=\"2022-01-01\",\n",
        "           end=\"2024-11-08\",\n",
        "           minimal=False,\n",
        "           data_source=\"VND\")\n",
        "\n",
        "data_ENF = loader_ENF.download()\n",
        "print(data_ENF.head(5))\n",
        "ENF = data_ENF.to_csv(\"ENF.csv\")"
      ],
      "metadata": {
        "colab": {
          "base_uri": "https://localhost:8080/"
        },
        "id": "jv-sk1cIczR9",
        "outputId": "05a31e2a-53fa-42b4-9685-8446662dc4c5"
      },
      "execution_count": null,
      "outputs": [
        {
          "output_type": "stream",
          "name": "stderr",
          "text": [
            "[2024-11-10 09:51:29] - Assitant - INFO      - download - line 32 - Start downloading data symbols ['ENF'] from VNDIRECT, start: 01/01/2022, end: 08/11/2024!\n",
            "[2024-11-10 09:51:29] - Assitant - INFO      - download_one - line 85 - data ENF from 2022-01-01 to 2024-11-08 have already cloned!\n"
          ]
        },
        {
          "output_type": "stream",
          "name": "stdout",
          "text": [
            "Attributes code floor basic_price ceiling_price floor_price   close open high  \\\n",
            "Symbols     ENF   ENF         ENF           ENF         ENF     ENF  ENF  ENF   \n",
            "date                                                                            \n",
            "2024-11-08  ENF   OTC         0.0           0.0         0.0  36.532  0.0  0.0   \n",
            "2024-11-06  ENF   OTC         0.0           0.0         0.0  36.099  0.0  0.0   \n",
            "2024-11-01  ENF   OTC         0.0           0.0         0.0  36.557  0.0  0.0   \n",
            "2024-10-30  ENF   OTC         0.0           0.0         0.0  36.443  0.0  0.0   \n",
            "2024-10-25  ENF   OTC         0.0           0.0         0.0  36.158  0.0  0.0   \n",
            "\n",
            "Attributes  low average  ... adjust_average change adjust_change  \\\n",
            "Symbols     ENF     ENF  ...            ENF    ENF           ENF   \n",
            "date                     ...                                       \n",
            "2024-11-08  0.0     0.0  ...            0.0    0.0           0.0   \n",
            "2024-11-06  0.0     0.0  ...            0.0    0.0           0.0   \n",
            "2024-11-01  0.0     0.0  ...            0.0    0.0           0.0   \n",
            "2024-10-30  0.0     0.0  ...            0.0    0.0           0.0   \n",
            "2024-10-25  0.0     0.0  ...            0.0    0.0           0.0   \n",
            "\n",
            "Attributes percent_change volume_match value_match volume_reconcile  \\\n",
            "Symbols               ENF          ENF         ENF              ENF   \n",
            "date                                                                  \n",
            "2024-11-08            0.0          0.0         0.0              0.0   \n",
            "2024-11-06            0.0          0.0         0.0              0.0   \n",
            "2024-11-01            0.0          0.0         0.0              0.0   \n",
            "2024-10-30            0.0          0.0         0.0              0.0   \n",
            "2024-10-25            0.0          0.0         0.0              0.0   \n",
            "\n",
            "Attributes value_reconcile total_volume total_value  \n",
            "Symbols                ENF          ENF         ENF  \n",
            "date                                                 \n",
            "2024-11-08             0.0          0.0         0.0  \n",
            "2024-11-06             0.0          0.0         0.0  \n",
            "2024-11-01             0.0          0.0         0.0  \n",
            "2024-10-30             0.0          0.0         0.0  \n",
            "2024-10-25             0.0          0.0         0.0  \n",
            "\n",
            "[5 rows x 24 columns]\n"
          ]
        }
      ]
    },
    {
      "cell_type": "code",
      "source": [
        "loader_E1VFVN30_02 = dt.DataLoader('E1VFVN30', '2022-01-01','2024-11-08', data_source='CAFE', minimal=True)\n",
        "data_E1VFVN30_02 = loader_E1VFVN30_02.download()\n",
        "E1VFVN30_02 = data_E1VFVN30_02.to_csv(\"E1VFVN30_02.csv\")"
      ],
      "metadata": {
        "colab": {
          "base_uri": "https://localhost:8080/"
        },
        "id": "lEu5ZQmbfbbD",
        "outputId": "8dad9734-82ab-4ca6-903e-bd51a397954f"
      },
      "execution_count": null,
      "outputs": [
        {
          "output_type": "stream",
          "name": "stderr",
          "text": [
            "[2024-11-10 09:54:11] - Assitant - INFO      - download - line 34 - Start downloading data symbols ['E1VFVN30'] from CAFEF, start: 01/01/2022, end: 08/11/2024!\n",
            "[2024-11-10 09:54:11] - Assitant - INFO      - download_one - line 94 - data E1VFVN30 from 2022-01-01 to 2024-11-08 have already cloned!\n"
          ]
        }
      ]
    },
    {
      "cell_type": "code",
      "source": [
        "# VFMK\n",
        "\n",
        "loader_VFMK = dt.DataLoader(symbols=\"VFMK\",\n",
        "           start=\"2022-01-01\",\n",
        "           end=\"2024-11-08\",\n",
        "           minimal=False,\n",
        "           data_source=\"VND\")\n",
        "\n",
        "\n",
        "try:\n",
        "    data_VFMK = loader_VFMK.download()\n",
        "    print(data_VFMK.head(5))\n",
        "    VFMK = data_VFMK.to_csv(\"VFMK.csv\")\n",
        "except ValueError as e:\n",
        "    if \"All objects passed were None\" in str(e):\n",
        "        print(f\"Error: No data found for symbol 'VFMK' in the specified date range and data source.\")\n",
        "        # Potential solutions:\n",
        "        # 1. Double-check the symbol 'VFMK' for typos.\n",
        "        # 2. Try a different date range.\n",
        "        # 3. Investigate if the symbol is available in the 'VND' data source.\n",
        "    else:\n",
        "        raise e # Re-raise the exception if it's not the specific ValueError we're handling."
      ],
      "metadata": {
        "colab": {
          "base_uri": "https://localhost:8080/"
        },
        "id": "3J7M12Ezgk-4",
        "outputId": "fc15f546-a4e0-4e5d-a6fd-ba96bfcfb6e2"
      },
      "execution_count": null,
      "outputs": [
        {
          "output_type": "stream",
          "name": "stderr",
          "text": [
            "[2024-11-10 10:02:58] - Assitant - INFO      - download - line 32 - Start downloading data symbols ['VFMK'] from VNDIRECT, start: 01/01/2022, end: 08/11/2024!\n",
            "[2024-11-10 10:02:58] - Assitant - ERROR      - download_one - line 55 - Data of the symbol VFMK is not available\n"
          ]
        },
        {
          "output_type": "stream",
          "name": "stdout",
          "text": [
            "Error: No data found for symbol 'VFMK' in the specified date range and data source.\n"
          ]
        }
      ]
    },
    {
      "cell_type": "code",
      "source": [
        "import vnquant.data as dt\n",
        "import requests\n",
        "import json\n",
        "\n",
        "loader = dt.FinanceLoader('FPT', '2022-01-01','2024-11-08', data_source='VND', minimal=True)\n",
        "\n",
        "try:\n",
        "    data_business = loader.get_business_report()\n",
        "    print(data_business.head())\n",
        "    data_business.head().to_html('data_business_FPT.html')\n",
        "except json.JSONDecodeError as e:\n",
        "    print(f\"Error decoding JSON response: {e}\")\n",
        "    # Print the raw response for debugging\n",
        "    page = requests.get(\"https://finfo-api.vndirect.com.vn/v3/stocks/financialStatement?secCodes={}&reportTypes=QUARTER&modelTypes=2,90,102,412&fromDate={}&toDate={}\".format(loader.symbol, loader.start, loader.end))\n",
        "    print(f\"Raw API response: {page.text}\")\n",
        "    print(f\"API URL: {page}\")\n",
        "    # Implement a fallback mechanism or error handling logic here"
      ],
      "metadata": {
        "colab": {
          "base_uri": "https://localhost:8080/"
        },
        "id": "UBvRKHudjC68",
        "outputId": "9a3836eb-1e99-43c9-99bc-ffe769261b36"
      },
      "execution_count": null,
      "outputs": [
        {
          "output_type": "stream",
          "name": "stdout",
          "text": [
            "Error decoding JSON response: Expecting value: line 1 column 1 (char 0)\n",
            "Raw API response: Access Denied\n",
            "API URL: <Response [403]>\n"
          ]
        }
      ]
    },
    {
      "cell_type": "code",
      "source": [
        "import vnquant.data as dt\n",
        "import requests\n",
        "import json\n",
        "\n",
        "loader = dt.FinanceLoader('VND', '2019-06-02','2024-12-31', data_source='VND', minimal=True)\n",
        "\n",
        "try:\n",
        "    data_cash = loader.get_cashflow_report()\n",
        "    print(data_cash.head())\n",
        "    data_cash.head().to_html('data_cashflow.html')\n",
        "except json.JSONDecodeError as e:\n",
        "    print(f\"Error decoding JSON response: {e}\")\n",
        "    # Print the raw response for debugging\n",
        "    url = \"https://finfo-api.vndirect.com.vn/v3/stocks/financialStatement?secCodes={}&reportTypes=QUARTER&modelTypes=3,91,103,413&fromDate={}&toDate={}\".format(loader.symbol, loader.start, loader.end)\n",
        "    page = requests.get(url)\n",
        "    print(f\"Raw API response: {page.text}\")\n",
        "    print(f\"API URL: {url}\")  # Print the URL used for the API request\n",
        "    # Implement a fallback mechanism or error handling logic here\n",
        "    # For example, you could retry the request after a delay or use a default value"
      ],
      "metadata": {
        "colab": {
          "base_uri": "https://localhost:8080/"
        },
        "id": "Wjw5R0hHjs_n",
        "outputId": "d46dae97-dec8-4859-8a6c-f4a285bfa0eb"
      },
      "execution_count": null,
      "outputs": [
        {
          "output_type": "stream",
          "name": "stdout",
          "text": [
            "Error decoding JSON response: Expecting value: line 1 column 1 (char 0)\n",
            "Raw API response: Access Denied\n",
            "API URL: https://finfo-api.vndirect.com.vn/v3/stocks/financialStatement?secCodes=VND&reportTypes=QUARTER&modelTypes=3,91,103,413&fromDate=2019-06-02&toDate=2024-12-31\n"
          ]
        }
      ]
    }
  ]
}